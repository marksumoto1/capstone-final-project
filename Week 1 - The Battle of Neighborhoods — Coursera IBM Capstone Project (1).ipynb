{
 "cells": [
  {
   "cell_type": "markdown",
   "metadata": {},
   "source": [
    "## The problem\n",
    "\n",
    "ACMEX company, which is a Mexican Food company decided to open new restaurants in one of the top 3 major city in the United States based on population. One of the main concerns it that there will a great deal of competition due to the fact that most people love mexican food.\n",
    "\n",
    "Based on this ACMEX hired me to determine which is the ideal location for their first restaurant based on:\n",
    "\n",
    "1- Average mexican food restaurant competition ratings,\n",
    "\n",
    "2- Amount of competitors in the selected neighborhood, \n",
    "\n",
    "3- Neighborhoods in the selected city with above average population,\n",
    "\n",
    "Based on this criteria given by ACMEX the goal is to locate and recommend  which neighborhood of the selected city is the best option to start their international expansion. \n",
    "\n",
    "\n",
    "## Data Sources\n",
    "\n",
    "This are the data sources needed to give a proper recommendation to ACMEX to open their new mexican food restaurant.\n",
    "\n",
    "1- The cities selected based on population are: New York, Los Angeles and Chicago.\n",
    "\n",
    "2- To determine the mexican food restaurants I’ll use Foursquare rating data.\n",
    "\n",
    "3- To determine the amount of competitors I’ll use Foursquare frequency data for Mexican Restaurants per neighborhoods.\n",
    "\n",
    "4- To determine the neighborhoods with above average population I’ll use data.census.gov and/or Web scraping Wikipedia cities Datasets.\n"
   ]
  }
 ],
 "metadata": {
  "kernelspec": {
   "display_name": "Python 3",
   "language": "python",
   "name": "python3"
  },
  "language_info": {
   "codemirror_mode": {
    "name": "ipython",
    "version": 3
   },
   "file_extension": ".py",
   "mimetype": "text/x-python",
   "name": "python",
   "nbconvert_exporter": "python",
   "pygments_lexer": "ipython3",
   "version": "3.7.6"
  }
 },
 "nbformat": 4,
 "nbformat_minor": 4
}
